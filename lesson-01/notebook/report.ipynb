{
 "cells": [
  {
   "cell_type": "code",
   "execution_count": 24,
   "id": "6ba24d32",
   "metadata": {},
   "outputs": [],
   "source": [
    "import pandas as pd\n",
    "import os, sys\n",
    "import numpy as np\n",
    "project_root_path = os.path.abspath(os.path.join(os.getcwd(), '..'))\n",
    "\n",
    "if project_root_path not in sys.path:\n",
    "    sys.path.append(project_root_path)\n",
    "\n",
    "from src.utils import load_dataset\n",
    "from src.utils import show_mnist\n",
    "from sklearn.model_selection import train_test_split\n",
    "\n",
    "from src import train, predict, test\n",
    "from torchinfo import summary\n",
    "import mlflow"
   ]
  },
  {
   "cell_type": "markdown",
   "id": "0bb3aee4",
   "metadata": {},
   "source": [
    "## 1. Load dataset"
   ]
  },
  {
   "cell_type": "code",
   "execution_count": 13,
   "id": "45fb770c",
   "metadata": {},
   "outputs": [],
   "source": [
    "DATA_DIR = '../data'\n",
    "dataset = load_dataset(DATA_DIR)"
   ]
  },
  {
   "cell_type": "code",
   "execution_count": 14,
   "id": "e8139c6a",
   "metadata": {},
   "outputs": [],
   "source": [
    "X_train, X_val, y_train, y_val = train_test_split(\n",
    "    dataset[0], dataset[1], \n",
    "    test_size=0.1,\n",
    "    random_state=42\n",
    ")"
   ]
  },
  {
   "cell_type": "code",
   "execution_count": 15,
   "id": "12636ff8",
   "metadata": {},
   "outputs": [
    {
     "data": {
      "image/png": "[encoded data removed]",
      "text/plain": [
       "<Figure size 640x480 with 1 Axes>"
      ]
     },
     "metadata": {},
     "output_type": "display_data"
    }
   ],
   "source": [
    "show_mnist(X_train[0], y_train[0])"
   ]
  },
  {
   "cell_type": "markdown",
   "id": "7ef2dfff",
   "metadata": {},
   "source": [
    "## 2. Build Neural Network for task 01"
   ]
  },
  {
   "cell_type": "markdown",
   "id": "5636d594",
   "metadata": {},
   "source": [
    "To see the neural network in detail, access `lesson-01/src/ANN/T1.py`."
   ]
  },
  {
   "cell_type": "code",
   "execution_count": 16,
   "id": "0bd963e2",
   "metadata": {},
   "outputs": [],
   "source": [
    "from src.ANN.T1 import T1"
   ]
  },
  {
   "cell_type": "code",
   "execution_count": 17,
   "id": "3edf1e0e",
   "metadata": {},
   "outputs": [
    {
     "name": "stdout",
     "output_type": "stream",
     "text": [
      "Intput shape: (1, 1, 28, 28)\n"
     ]
    },
    {
     "data": {
      "text/plain": [
       "==========================================================================================\n",
       "Layer (type:depth-idx)                   Output Shape              Param #\n",
       "==========================================================================================\n",
       "T1                                       [1, 10]                   --\n",
       "├─Linear: 1-1                            [1, 512]                  401,920\n",
       "├─Linear: 1-2                            [1, 10]                   5,130\n",
       "==========================================================================================\n",
       "Total params: 407,050\n",
       "Trainable params: 407,050\n",
       "Non-trainable params: 0\n",
       "Total mult-adds (M): 0.41\n",
       "==========================================================================================\n",
       "Input size (MB): 0.00\n",
       "Forward/backward pass size (MB): 0.00\n",
       "Params size (MB): 1.63\n",
       "Estimated Total Size (MB): 1.64\n",
       "=========================================================================================="
      ]
     },
     "execution_count": 17,
     "metadata": {},
     "output_type": "execute_result"
    }
   ],
   "source": [
    "t1_example = T1()\n",
    "batch_size = 1\n",
    "input_shape = (batch_size, 1, 28, 28) \n",
    "\n",
    "print(f'Intput shape: {input_shape}')\n",
    "# 3. Print the summary\n",
    "summary(t1_example, input_size=input_shape)"
   ]
  },
  {
   "cell_type": "markdown",
   "id": "c64049a5",
   "metadata": {},
   "source": [
    "### 2.1. Training model"
   ]
  },
  {
   "cell_type": "code",
   "execution_count": 23,
   "id": "785fc518",
   "metadata": {},
   "outputs": [
    {
     "name": "stdout",
     "output_type": "stream",
     "text": [
      "Đang chuẩn bị và chia dữ liệu...\n",
      "Chuẩn bị dữ liệu thành công!\n",
      "Bắt đầu MLflow run: 879e2e34951b4633bb322d49e74c4dfd\n",
      "Epoch 1/10 - Val Loss: 1.6493, Val Accuracy: 81.16%\n",
      "Epoch 2/10 - Val Loss: 1.6245, Val Accuracy: 83.59%\n",
      "Epoch 3/10 - Val Loss: 1.6131, Val Accuracy: 84.75%\n",
      "Epoch 4/10 - Val Loss: 1.5306, Val Accuracy: 92.98%\n",
      "Epoch 5/10 - Val Loss: 1.5159, Val Accuracy: 94.52%\n",
      "Epoch 6/10 - Val Loss: 1.5191, Val Accuracy: 94.17%\n",
      "Epoch 7/10 - Val Loss: 1.5093, Val Accuracy: 95.19%\n",
      "Epoch 8/10 - Val Loss: 1.5033, Val Accuracy: 95.79%\n",
      "Epoch 9/10 - Val Loss: 1.5015, Val Accuracy: 95.98%\n"
     ]
    },
    {
     "name": "stderr",
     "output_type": "stream",
     "text": [
      "2025/10/08 17:24:15 WARNING mlflow.models.model: `artifact_path` is deprecated. Please use `name` instead.\n"
     ]
    },
    {
     "name": "stdout",
     "output_type": "stream",
     "text": [
      "Epoch 10/10 - Val Loss: 1.5024, Val Accuracy: 95.86%\n",
      "Training hoàn tất. Đang lưu model vào MLflow...\n"
     ]
    },
    {
     "name": "stderr",
     "output_type": "stream",
     "text": [
      "2025/10/08 17:24:15 WARNING mlflow.utils.requirements_utils: Found torch version (2.8.0+cu126) contains a local version label (+cu126). MLflow logged a pip requirement for this package as 'torch==2.8.0' without the local version label to make it installable from PyPI. To specify pip requirements containing local version labels, please use `conda_env` or `pip_requirements`.\n",
      "2025/10/08 17:24:22 WARNING mlflow.utils.requirements_utils: Found torch version (2.8.0+cu126) contains a local version label (+cu126). MLflow logged a pip requirement for this package as 'torch==2.8.0' without the local version label to make it installable from PyPI. To specify pip requirements containing local version labels, please use `conda_env` or `pip_requirements`.\n",
      "2025/10/08 17:24:23 WARNING mlflow.models.model: Model logged without a signature and input example. Please set `input_example` parameter when logging the model to auto infer the model signature.\n"
     ]
    },
    {
     "name": "stdout",
     "output_type": "stream",
     "text": [
      "Lưu model thành công!\n"
     ]
    }
   ],
   "source": [
    "train.train(\n",
    "    X_data=X_train,\n",
    "    y_data=y_train,\n",
    "    model_class=T1,\n",
    "    LEARNING_RATE=0.0001,\n",
    "    BATCH_SIZE=256,\n",
    "    EPOCHS=10,\n",
    "    MLFLOW_EXPERIMENT_NAME=\"T1_Classification\"\n",
    ")"
   ]
  },
  {
   "cell_type": "markdown",
   "id": "dd0e42b8",
   "metadata": {},
   "source": [
    "### 2.2. Evaluating model"
   ]
  },
  {
   "cell_type": "code",
   "execution_count": 25,
   "id": "600d52aa",
   "metadata": {},
   "outputs": [],
   "source": [
    "id = '879e2e34951b4633bb322d49e74c4dfd'\n",
    "model = mlflow.pytorch.load_model(f\"runs:/{id}/model\")"
   ]
  },
  {
   "cell_type": "code",
   "execution_count": 29,
   "id": "c9856e36",
   "metadata": {},
   "outputs": [
    {
     "name": "stdout",
     "output_type": "stream",
     "text": [
      "95.529%\n"
     ]
    }
   ],
   "source": [
    "accuracy = test.evaluate(model, X_val, y_val)\n",
    "print(f'{round(accuracy, 3)}%')"
   ]
  },
  {
   "cell_type": "markdown",
   "id": "81249ee1",
   "metadata": {},
   "source": [
    "## 3. Build Neural Network for task 02"
   ]
  },
  {
   "cell_type": "code",
   "execution_count": 30,
   "id": "a2777f40",
   "metadata": {},
   "outputs": [],
   "source": [
    "from src.ANN.T2 import T2"
   ]
  },
  {
   "cell_type": "code",
   "execution_count": 31,
   "id": "d39fe8ed",
   "metadata": {},
   "outputs": [
    {
     "name": "stdout",
     "output_type": "stream",
     "text": [
      "Intput shape: (1, 1, 28, 28)\n"
     ]
    },
    {
     "data": {
      "text/plain": [
       "==========================================================================================\n",
       "Layer (type:depth-idx)                   Output Shape              Param #\n",
       "==========================================================================================\n",
       "T2                                       [1, 10]                   --\n",
       "├─Linear: 1-1                            [1, 512]                  401,920\n",
       "├─Linear: 1-2                            [1, 256]                  131,328\n",
       "├─Linear: 1-3                            [1, 10]                   2,570\n",
       "==========================================================================================\n",
       "Total params: 535,818\n",
       "Trainable params: 535,818\n",
       "Non-trainable params: 0\n",
       "Total mult-adds (M): 0.54\n",
       "==========================================================================================\n",
       "Input size (MB): 0.00\n",
       "Forward/backward pass size (MB): 0.01\n",
       "Params size (MB): 2.14\n",
       "Estimated Total Size (MB): 2.15\n",
       "=========================================================================================="
      ]
     },
     "execution_count": 31,
     "metadata": {},
     "output_type": "execute_result"
    }
   ],
   "source": [
    "t2_example = T2()\n",
    "batch_size = 1\n",
    "input_shape = (batch_size, 1, 28, 28) \n",
    "\n",
    "print(f'Intput shape: {input_shape}')\n",
    "# 3. Print the summary\n",
    "summary(t2_example, input_size=input_shape)"
   ]
  },
  {
   "cell_type": "markdown",
   "id": "60603460",
   "metadata": {},
   "source": [
    "### 3.1. Training model"
   ]
  },
  {
   "cell_type": "code",
   "execution_count": 32,
   "id": "144a4b0c",
   "metadata": {},
   "outputs": [
    {
     "name": "stderr",
     "output_type": "stream",
     "text": [
      "2025/10/08 17:35:36 INFO mlflow.tracking.fluent: Experiment with name 'T2_Classification' does not exist. Creating a new experiment.\n"
     ]
    },
    {
     "name": "stdout",
     "output_type": "stream",
     "text": [
      "Đang chuẩn bị và chia dữ liệu...\n",
      "Chuẩn bị dữ liệu thành công!\n",
      "Bắt đầu MLflow run: 9ee206d29a8d450e851c68013f1a35f8\n",
      "Epoch 1/10 - Val Loss: 1.7085, Val Accuracy: 75.19%\n",
      "Epoch 2/10 - Val Loss: 1.6120, Val Accuracy: 84.84%\n",
      "Epoch 3/10 - Val Loss: 1.5027, Val Accuracy: 95.84%\n",
      "Epoch 4/10 - Val Loss: 1.4983, Val Accuracy: 96.40%\n",
      "Epoch 5/10 - Val Loss: 1.4997, Val Accuracy: 96.14%\n",
      "Epoch 6/10 - Val Loss: 1.4972, Val Accuracy: 96.46%\n",
      "Epoch 7/10 - Val Loss: 1.4943, Val Accuracy: 96.71%\n",
      "Epoch 8/10 - Val Loss: 1.4932, Val Accuracy: 96.83%\n",
      "Epoch 9/10 - Val Loss: 1.4893, Val Accuracy: 97.29%\n"
     ]
    },
    {
     "name": "stderr",
     "output_type": "stream",
     "text": [
      "2025/10/08 17:35:50 WARNING mlflow.models.model: `artifact_path` is deprecated. Please use `name` instead.\n"
     ]
    },
    {
     "name": "stdout",
     "output_type": "stream",
     "text": [
      "Epoch 10/10 - Val Loss: 1.4908, Val Accuracy: 97.13%\n",
      "Training hoàn tất. Đang lưu model vào MLflow...\n"
     ]
    },
    {
     "name": "stderr",
     "output_type": "stream",
     "text": [
      "2025/10/08 17:35:50 WARNING mlflow.utils.requirements_utils: Found torch version (2.8.0+cu126) contains a local version label (+cu126). MLflow logged a pip requirement for this package as 'torch==2.8.0' without the local version label to make it installable from PyPI. To specify pip requirements containing local version labels, please use `conda_env` or `pip_requirements`.\n",
      "2025/10/08 17:35:56 WARNING mlflow.utils.requirements_utils: Found torch version (2.8.0+cu126) contains a local version label (+cu126). MLflow logged a pip requirement for this package as 'torch==2.8.0' without the local version label to make it installable from PyPI. To specify pip requirements containing local version labels, please use `conda_env` or `pip_requirements`.\n",
      "2025/10/08 17:35:56 WARNING mlflow.models.model: Model logged without a signature and input example. Please set `input_example` parameter when logging the model to auto infer the model signature.\n"
     ]
    },
    {
     "name": "stdout",
     "output_type": "stream",
     "text": [
      "Lưu model thành công!\n"
     ]
    }
   ],
   "source": [
    "train.train(\n",
    "    X_data=X_train,\n",
    "    y_data=y_train,\n",
    "    model_class=T2,\n",
    "    LEARNING_RATE=0.0001,\n",
    "    BATCH_SIZE=256,\n",
    "    EPOCHS=10,\n",
    "    MLFLOW_EXPERIMENT_NAME=\"T2_Classification\"\n",
    ")"
   ]
  },
  {
   "cell_type": "markdown",
   "id": "2dbc8925",
   "metadata": {},
   "source": [
    "### 3.2. Evaluating model"
   ]
  },
  {
   "cell_type": "code",
   "execution_count": 33,
   "id": "831fdd84",
   "metadata": {},
   "outputs": [
    {
     "name": "stdout",
     "output_type": "stream",
     "text": [
      "96.771%\n"
     ]
    }
   ],
   "source": [
    "id = '9ee206d29a8d450e851c68013f1a35f8'\n",
    "model = mlflow.pytorch.load_model(f\"runs:/{id}/model\")\n",
    "accuracy = test.evaluate(model, X_val, y_val)\n",
    "print(f'{round(accuracy, 3)}%')"
   ]
  },
  {
   "cell_type": "markdown",
   "id": "e28672ed",
   "metadata": {},
   "source": [
    "## 4. Build Convolutional Neural Network"
   ]
  },
  {
   "cell_type": "markdown",
   "id": "f91ec807",
   "metadata": {},
   "source": [
    "### 4.1. Convolutional Neural Layer"
   ]
  },
  {
   "cell_type": "code",
   "execution_count": null,
   "id": "166705ce",
   "metadata": {},
   "outputs": [],
   "source": [
    "def do_cnn_layer(image, kernel = None):\n",
    "    '''\n",
    "    Thực hiện phép tích chập 2D đơn giản trên một ảnh.\n",
    "    '''\n",
    "    N = image.shape[0]\n",
    "    new_image = np.zeros((N, N))\n",
    "    if kernel is None:\n",
    "        kernel = np.array([\n",
    "            [1,  1,  1],\n",
    "            [1, -8,  1],\n",
    "            [1,  1,  1]\n",
    "        ])\n",
    "\n",
    "    for i in range(1, N - 1):\n",
    "        for j in range(1, N - 1):\n",
    "            image_patch = image[i-1:i+2, j-1:j+2]\n",
    "            new_pixel_value = np.sum(image_patch * kernel)\n",
    "            new_image[i, j] = new_pixel_value\n",
    "    \n",
    "    return new_image"
   ]
  },
  {
   "cell_type": "markdown",
   "id": "30283282",
   "metadata": {},
   "source": [
    "### 4.2. Pooling Layer"
   ]
  },
  {
   "cell_type": "code",
   "execution_count": null,
   "id": "c91e1be3",
   "metadata": {},
   "outputs": [],
   "source": [
    "def max_pooling_layer(feature_map, pool_size=2, stride=2):\n",
    "    \"\"\"\n",
    "    Thực hiện Max Pooling trên một bản đồ đặc trưng (feature map).\n",
    "    \n",
    "    Args:\n",
    "        feature_map (np.array): Ma trận đầu vào (kết quả từ lớp CNN).\n",
    "        pool_size (int): Kích thước của cửa sổ pooling (ví dụ: 2 nghĩa là 2x2).\n",
    "        stride (int): Bước nhảy của cửa sổ.\n",
    "        \n",
    "    Returns:\n",
    "        np.array: Ma trận đầu ra đã được giảm kích thước.\n",
    "    \"\"\"\n",
    "    input_height, input_width = feature_map.shape\n",
    "    \n",
    "    # Tính toán kích thước của ma trận đầu ra\n",
    "    output_height = (input_height - pool_size) // stride + 1\n",
    "    output_width = (input_width - pool_size) // stride + 1\n",
    "    \n",
    "    # Tạo ma trận đầu ra với các giá trị 0\n",
    "    pooled_map = np.zeros((output_height, output_width))\n",
    "    \n",
    "    # Bắt đầu trượt cửa sổ qua ma trận đầu vào\n",
    "    for i in range(output_height):\n",
    "        for j in range(output_width):\n",
    "            # Xác định vị trí của cửa sổ hiện tại\n",
    "            start_i = i * stride\n",
    "            start_j = j * stride\n",
    "            end_i = start_i + pool_size\n",
    "            end_j = start_j + pool_size\n",
    "            \n",
    "            # Cắt ra cửa sổ từ feature map\n",
    "            window = feature_map[start_i:end_i, start_j:end_j]\n",
    "            \n",
    "            # Lấy giá trị lớn nhất trong cửa sổ và gán vào ma trận đầu ra\n",
    "            pooled_map[i, j] = np.max(window)\n",
    "            \n",
    "    return pooled_map"
   ]
  },
  {
   "cell_type": "markdown",
   "id": "33da7563",
   "metadata": {},
   "source": [
    "### 4.3. Demo logic"
   ]
  },
  {
   "cell_type": "code",
   "execution_count": null,
   "id": "182a7262",
   "metadata": {},
   "outputs": [
    {
     "data": {
      "image/png": "[encoded data removed]",
      "text/plain": [
       "<Figure size 640x480 with 1 Axes>"
      ]
     },
     "metadata": {},
     "output_type": "display_data"
    },
    {
     "data": {
      "image/png": "[encoded data removed]",
      "text/plain": [
       "<Figure size 640x480 with 1 Axes>"
      ]
     },
     "metadata": {},
     "output_type": "display_data"
    },
    {
     "data": {
      "image/png": "[encoded data removed]",
      "text/plain": [
       "<Figure size 640x480 with 1 Axes>"
      ]
     },
     "metadata": {},
     "output_type": "display_data"
    },
    {
     "data": {
      "image/png": "[encoded data removed]",
      "text/plain": [
       "<Figure size 640x480 with 1 Axes>"
      ]
     },
     "metadata": {},
     "output_type": "display_data"
    },
    {
     "data": {
      "image/png": "[encoded data removed]",
      "text/plain": [
       "<Figure size 640x480 with 1 Axes>"
      ]
     },
     "metadata": {},
     "output_type": "display_data"
    }
   ],
   "source": [
    "images = [X_train[0] for i in range(5)]\n",
    "images[1] = do_cnn_layer(images[0])\n",
    "images[2] = max_pooling_layer(images[1], pool_size=2, stride=1) * 1e9 * 1e9 \n",
    "images[3] = do_cnn_layer(images[2])\n",
    "images[4] = max_pooling_layer(images[3])\n",
    "\n",
    "for i in range(5):\n",
    "    show_mnist(images[i], y_train[0])"
   ]
  },
  {
   "cell_type": "markdown",
   "id": "867b0533",
   "metadata": {},
   "source": [
    "### 4.4. Full logic"
   ]
  },
  {
   "cell_type": "markdown",
   "id": "ad6522f3",
   "metadata": {},
   "source": [
    "See more at `lesson-01/src/ANN/CNN.py`."
   ]
  },
  {
   "cell_type": "code",
   "execution_count": 34,
   "id": "177481cd",
   "metadata": {},
   "outputs": [],
   "source": [
    "from src.ANN.CNN import CNN"
   ]
  },
  {
   "cell_type": "code",
   "execution_count": 36,
   "id": "33ed9c75",
   "metadata": {},
   "outputs": [
    {
     "name": "stdout",
     "output_type": "stream",
     "text": [
      "Intput shape: (1, 1, 28, 28)\n"
     ]
    },
    {
     "data": {
      "text/plain": [
       "==========================================================================================\n",
       "Layer (type:depth-idx)                   Output Shape              Param #\n",
       "==========================================================================================\n",
       "CNN                                      [1, 10]                   --\n",
       "├─Conv2d: 1-1                            [1, 16, 28, 28]           160\n",
       "├─MaxPool2d: 1-2                         [1, 16, 13, 13]           --\n",
       "├─Conv2d: 1-3                            [1, 32, 13, 13]           4,640\n",
       "├─MaxPool2d: 1-4                         [1, 32, 6, 6]             --\n",
       "├─Linear: 1-5                            [1, 10]                   11,530\n",
       "==========================================================================================\n",
       "Total params: 16,330\n",
       "Trainable params: 16,330\n",
       "Non-trainable params: 0\n",
       "Total mult-adds (M): 0.92\n",
       "==========================================================================================\n",
       "Input size (MB): 0.00\n",
       "Forward/backward pass size (MB): 0.14\n",
       "Params size (MB): 0.07\n",
       "Estimated Total Size (MB): 0.21\n",
       "=========================================================================================="
      ]
     },
     "execution_count": 36,
     "metadata": {},
     "output_type": "execute_result"
    }
   ],
   "source": [
    "CNN_example = CNN()\n",
    "batch_size = 1\n",
    "input_shape = (batch_size, 1, 28, 28) \n",
    "\n",
    "print(f'Intput shape: {input_shape}')\n",
    "# 3. Print the summary\n",
    "summary(CNN_example, input_size=input_shape)"
   ]
  },
  {
   "cell_type": "code",
   "execution_count": 37,
   "id": "a6f3042d",
   "metadata": {},
   "outputs": [
    {
     "name": "stdout",
     "output_type": "stream",
     "text": [
      "Đang chuẩn bị và chia dữ liệu...\n",
      "Chuẩn bị dữ liệu thành công!\n",
      "Bắt đầu MLflow run: 59c886a895f34d0588e58d933f620ead\n",
      "Epoch 1/10 - Val Loss: 0.7395, Val Accuracy: 85.38%\n",
      "Epoch 2/10 - Val Loss: 0.3941, Val Accuracy: 91.75%\n",
      "Epoch 3/10 - Val Loss: 0.2642, Val Accuracy: 94.11%\n",
      "Epoch 4/10 - Val Loss: 0.2211, Val Accuracy: 95.21%\n",
      "Epoch 5/10 - Val Loss: 0.1925, Val Accuracy: 95.63%\n",
      "Epoch 6/10 - Val Loss: 0.1587, Val Accuracy: 96.46%\n",
      "Epoch 7/10 - Val Loss: 0.1449, Val Accuracy: 96.86%\n",
      "Epoch 8/10 - Val Loss: 0.1323, Val Accuracy: 97.00%\n",
      "Epoch 9/10 - Val Loss: 0.1257, Val Accuracy: 97.25%\n"
     ]
    },
    {
     "name": "stderr",
     "output_type": "stream",
     "text": [
      "2025/10/08 17:38:33 WARNING mlflow.models.model: `artifact_path` is deprecated. Please use `name` instead.\n"
     ]
    },
    {
     "name": "stdout",
     "output_type": "stream",
     "text": [
      "Epoch 10/10 - Val Loss: 0.1249, Val Accuracy: 97.19%\n",
      "Training hoàn tất. Đang lưu model vào MLflow...\n"
     ]
    },
    {
     "name": "stderr",
     "output_type": "stream",
     "text": [
      "2025/10/08 17:38:33 WARNING mlflow.utils.requirements_utils: Found torch version (2.8.0+cu126) contains a local version label (+cu126). MLflow logged a pip requirement for this package as 'torch==2.8.0' without the local version label to make it installable from PyPI. To specify pip requirements containing local version labels, please use `conda_env` or `pip_requirements`.\n",
      "2025/10/08 17:38:39 WARNING mlflow.utils.requirements_utils: Found torch version (2.8.0+cu126) contains a local version label (+cu126). MLflow logged a pip requirement for this package as 'torch==2.8.0' without the local version label to make it installable from PyPI. To specify pip requirements containing local version labels, please use `conda_env` or `pip_requirements`.\n",
      "2025/10/08 17:38:39 WARNING mlflow.models.model: Model logged without a signature and input example. Please set `input_example` parameter when logging the model to auto infer the model signature.\n"
     ]
    },
    {
     "name": "stdout",
     "output_type": "stream",
     "text": [
      "Lưu model thành công!\n"
     ]
    }
   ],
   "source": [
    "train.train(\n",
    "    X_data=X_train,\n",
    "    y_data=y_train,\n",
    "    model_class=CNN,\n",
    "    LEARNING_RATE=0.0001,\n",
    "    BATCH_SIZE=256,\n",
    "    EPOCHS=10,\n",
    "    MLFLOW_EXPERIMENT_NAME=\"T2_Classification\"\n",
    ")"
   ]
  },
  {
   "cell_type": "code",
   "execution_count": 38,
   "id": "b86aa010",
   "metadata": {},
   "outputs": [
    {
     "name": "stdout",
     "output_type": "stream",
     "text": [
      "96.843%\n"
     ]
    }
   ],
   "source": [
    "id = '59c886a895f34d0588e58d933f620ead'\n",
    "model = mlflow.pytorch.load_model(f\"runs:/{id}/model\")\n",
    "accuracy = test.evaluate(model, X_val, y_val)\n",
    "print(f'{round(accuracy, 3)}%')"
   ]
  }
 ],
 "metadata": {
  "kernelspec": {
   "display_name": "venv",
   "language": "python",
   "name": "python3"
  },
  "language_info": {
   "codemirror_mode": {
    "name": "ipython",
    "version": 3
   },
   "file_extension": ".py",
   "mimetype": "text/x-python",
   "name": "python",
   "nbconvert_exporter": "python",
   "pygments_lexer": "ipython3",
   "version": "3.10.11"
  }
 },
 "nbformat": 4,
 "nbformat_minor": 5
}

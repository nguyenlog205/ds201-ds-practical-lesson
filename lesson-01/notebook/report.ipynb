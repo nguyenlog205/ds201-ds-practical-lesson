{
 "cells": [
  {
   "cell_type": "code",
   "execution_count": 4,
   "id": "6ba24d32",
   "metadata": {},
   "outputs": [],
   "source": [
    "import pandas as pd\n",
    "import os, sys\n",
    "import numpy as np\n",
    "project_root_path = os.path.abspath(os.path.join(os.getcwd(), '..'))\n",
    "\n",
    "if project_root_path not in sys.path:\n",
    "    sys.path.append(project_root_path)\n",
    "\n",
    "from src.utils import load_dataset\n",
    "from src.utils import show_mnist"
   ]
  },
  {
   "cell_type": "markdown",
   "id": "0bb3aee4",
   "metadata": {},
   "source": [
    "## 1. Load dataset"
   ]
  },
  {
   "cell_type": "code",
   "execution_count": 6,
   "id": "45fb770c",
   "metadata": {},
   "outputs": [],
   "source": [
    "DATA_DIR = '../data'\n",
    "dataset = load_dataset(DATA_DIR)"
   ]
  },
  {
   "cell_type": "markdown",
   "id": "8c878566",
   "metadata": {},
   "source": [
    "To access image and label of the i-th observation, use"
   ]
  },
  {
   "cell_type": "code",
   "execution_count": 7,
   "id": "5298fa65",
   "metadata": {},
   "outputs": [
    {
     "name": "stdout",
     "output_type": "stream",
     "text": [
      "(28, 28)\n",
      "()\n"
     ]
    }
   ],
   "source": [
    "i = 0\n",
    "print(dataset[0][i].shape)\n",
    "print(dataset[1][i].shape)"
   ]
  },
  {
   "cell_type": "code",
   "execution_count": 8,
   "id": "12636ff8",
   "metadata": {},
   "outputs": [
    {
     "data": {
      "image/png": "[encoded data removed]",
      "text/plain": [
       "<Figure size 640x480 with 1 Axes>"
      ]
     },
     "metadata": {},
     "output_type": "display_data"
    }
   ],
   "source": [
    "show_mnist(dataset[0][1], dataset[1][1])"
   ]
  },
  {
   "cell_type": "markdown",
   "id": "e28672ed",
   "metadata": {},
   "source": [
    "## 4. Build Convolutional Neural Network"
   ]
  },
  {
   "cell_type": "markdown",
   "id": "f91ec807",
   "metadata": {},
   "source": [
    "### 4.1. Convolutional Neural Layer"
   ]
  },
  {
   "cell_type": "code",
   "execution_count": null,
   "id": "166705ce",
   "metadata": {},
   "outputs": [],
   "source": [
    "def do_cnn_layer(image, kernel = None):\n",
    "    '''\n",
    "    Thực hiện phép tích chập 2D đơn giản trên một ảnh.\n",
    "    '''\n",
    "    N = image.shape[0]\n",
    "    new_image = np.zeros((N, N))\n",
    "    if kernel is None:\n",
    "        kernel = np.array([\n",
    "            [1,  1,  1],\n",
    "            [1, -8,  1],\n",
    "            [1,  1,  1]\n",
    "        ])\n",
    "\n",
    "    for i in range(1, N - 1):\n",
    "        for j in range(1, N - 1):\n",
    "            image_patch = image[i-1:i+2, j-1:j+2]\n",
    "            new_pixel_value = np.sum(image_patch * kernel)\n",
    "            new_image[i, j] = new_pixel_value\n",
    "    \n",
    "    return new_image"
   ]
  },
  {
   "cell_type": "markdown",
   "id": "30283282",
   "metadata": {},
   "source": [
    "### 4.2. Pooling Layer"
   ]
  },
  {
   "cell_type": "code",
   "execution_count": null,
   "id": "c91e1be3",
   "metadata": {},
   "outputs": [],
   "source": [
    "def max_pooling_layer(feature_map, pool_size=2, stride=2):\n",
    "    \"\"\"\n",
    "    Thực hiện Max Pooling trên một bản đồ đặc trưng (feature map).\n",
    "    \n",
    "    Args:\n",
    "        feature_map (np.array): Ma trận đầu vào (kết quả từ lớp CNN).\n",
    "        pool_size (int): Kích thước của cửa sổ pooling (ví dụ: 2 nghĩa là 2x2).\n",
    "        stride (int): Bước nhảy của cửa sổ.\n",
    "        \n",
    "    Returns:\n",
    "        np.array: Ma trận đầu ra đã được giảm kích thước.\n",
    "    \"\"\"\n",
    "    input_height, input_width = feature_map.shape\n",
    "    \n",
    "    # Tính toán kích thước của ma trận đầu ra\n",
    "    output_height = (input_height - pool_size) // stride + 1\n",
    "    output_width = (input_width - pool_size) // stride + 1\n",
    "    \n",
    "    # Tạo ma trận đầu ra với các giá trị 0\n",
    "    pooled_map = np.zeros((output_height, output_width))\n",
    "    \n",
    "    # Bắt đầu trượt cửa sổ qua ma trận đầu vào\n",
    "    for i in range(output_height):\n",
    "        for j in range(output_width):\n",
    "            # Xác định vị trí của cửa sổ hiện tại\n",
    "            start_i = i * stride\n",
    "            start_j = j * stride\n",
    "            end_i = start_i + pool_size\n",
    "            end_j = start_j + pool_size\n",
    "            \n",
    "            # Cắt ra cửa sổ từ feature map\n",
    "            window = feature_map[start_i:end_i, start_j:end_j]\n",
    "            \n",
    "            # Lấy giá trị lớn nhất trong cửa sổ và gán vào ma trận đầu ra\n",
    "            pooled_map[i, j] = np.max(window)\n",
    "            \n",
    "    return pooled_map"
   ]
  },
  {
   "cell_type": "markdown",
   "id": "33da7563",
   "metadata": {},
   "source": [
    "### 4.3. Demo logic"
   ]
  },
  {
   "cell_type": "code",
   "execution_count": null,
   "id": "182a7262",
   "metadata": {},
   "outputs": [
    {
     "data": {
      "image/png": "[encoded data removed]",
      "text/plain": [
       "<Figure size 640x480 with 1 Axes>"
      ]
     },
     "metadata": {},
     "output_type": "display_data"
    },
    {
     "data": {
      "image/png": "[encoded data removed]",
      "text/plain": [
       "<Figure size 640x480 with 1 Axes>"
      ]
     },
     "metadata": {},
     "output_type": "display_data"
    },
    {
     "data": {
      "image/png": "[encoded data removed]",
      "text/plain": [
       "<Figure size 640x480 with 1 Axes>"
      ]
     },
     "metadata": {},
     "output_type": "display_data"
    },
    {
     "data": {
      "image/png": "[encoded data removed]",
      "text/plain": [
       "<Figure size 640x480 with 1 Axes>"
      ]
     },
     "metadata": {},
     "output_type": "display_data"
    },
    {
     "data": {
      "image/png": "[encoded data removed]",
      "text/plain": [
       "<Figure size 640x480 with 1 Axes>"
      ]
     },
     "metadata": {},
     "output_type": "display_data"
    }
   ],
   "source": [
    "ord = 2\n",
    "\n",
    "images = [dataset[0][ord] for i in range(5)]\n",
    "images[1] = do_cnn_layer(images[0])\n",
    "images[2] = max_pooling_layer(images[1], pool_size=3, stride=2) * 1e9 * 1e9 \n",
    "images[3] = do_cnn_layer(images[2])\n",
    "images[4] = max_pooling_layer(images[3])\n",
    "\n",
    "for i in range(5):\n",
    "    show_mnist(images[i], dataset[1][ord])"
   ]
  },
  {
   "cell_type": "markdown",
   "id": "867b0533",
   "metadata": {},
   "source": [
    "### 4.4. Full logic"
   ]
  },
  {
   "cell_type": "markdown",
   "id": "ad6522f3",
   "metadata": {},
   "source": [
    "See more at `lesson-01/src/ANN/CNN.py`."
   ]
  },
  {
   "cell_type": "code",
   "execution_count": 10,
   "id": "31c5b386",
   "metadata": {},
   "outputs": [],
   "source": [
    "import torch\n",
    "import torch.nn as nn\n",
    "import torch.optim as optim\n",
    "from torch.utils.data import DataLoader\n",
    "from torchvision import datasets, transforms\n",
    "import mlflow\n",
    "import mlflow.pytorch\n",
    "from src.ANN.CNN import CNN"
   ]
  },
  {
   "cell_type": "code",
   "execution_count": 11,
   "id": "1bf226d5",
   "metadata": {},
   "outputs": [],
   "source": [
    "# --- 1. Thiết lập các tham số (Hyperparameters) ---\n",
    "LEARNING_RATE = 0.001\n",
    "BATCH_SIZE = 64\n",
    "EPOCHS = 5\n",
    "MLFLOW_EXPERIMENT_NAME = \"MNIST_Classification\""
   ]
  },
  {
   "cell_type": "code",
   "execution_count": null,
   "id": "5f34db70",
   "metadata": {},
   "outputs": [],
   "source": [
    "def train(train_dataset):\n",
    "    \"\"\"\n",
    "    Hàm chính để thực hiện toàn bộ quá trình training và tracking với MLflow.\n",
    "    \"\"\"\n",
    "    # --- 2. Chuẩn bị dữ liệu ---\n",
    "    print(\"Đang tải và chuẩn bị dữ liệu...\")\n",
    "    transform = transforms.Compose([\n",
    "        transforms.ToTensor(),\n",
    "        # Chuẩn hóa dữ liệu MNIST với mean và std đã biết\n",
    "        transforms.Normalize((0.1307,), (0.3081,))\n",
    "    ])\n",
    "    \n",
    "    # Tải training và validation dataset\n",
    "    train_dataset = datasets.MNIST(root='./data', train=True, download=True, transform=transform)\n",
    "    val_dataset = datasets.MNIST(root='./data', train=False, download=True, transform=transform)\n",
    "    \n",
    "    # Tạo DataLoaders để cung cấp dữ liệu theo từng batch\n",
    "    train_loader = DataLoader(train_dataset, batch_size=BATCH_SIZE, shuffle=True)\n",
    "    val_loader = DataLoader(val_dataset, batch_size=BATCH_SIZE, shuffle=False)\n",
    "    print(\"Tải dữ liệu thành công!\")\n",
    "\n",
    "    # --- 3. Bắt đầu phiên làm việc với MLflow ---\n",
    "    mlflow.set_experiment(MLFLOW_EXPERIMENT_NAME)\n",
    "    with mlflow.start_run() as run:\n",
    "        print(f\"Bắt đầu MLflow run: {run.info.run_id}\")\n",
    "        \n",
    "        # Log các tham số\n",
    "        mlflow.log_param(\"learning_rate\", LEARNING_RATE)\n",
    "        mlflow.log_param(\"batch_size\", BATCH_SIZE)\n",
    "        mlflow.log_param(\"epochs\", EPOCHS)\n",
    "        mlflow.log_param(\"model_class\", \"SimpleCNN\")\n",
    "\n",
    "        # --- 4. Khởi tạo model, optimizer và loss function ---\n",
    "        device = \"cuda\" if torch.cuda.is_available() else \"cpu\"\n",
    "        model = CNN().to(device)\n",
    "        optimizer = optim.Adam(model.parameters(), lr=LEARNING_RATE)\n",
    "        loss_fn = nn.CrossEntropyLoss()\n",
    "\n",
    "        # --- 5. Vòng lặp Training & Validation ---\n",
    "        for epoch in range(EPOCHS):\n",
    "            # Chuyển model sang chế độ train\n",
    "            model.train()\n",
    "            for batch_idx, (data, target) in enumerate(train_loader):\n",
    "                data, target = data.to(device), target.to(device)\n",
    "                \n",
    "                # Zero the gradients\n",
    "                optimizer.zero_grad()\n",
    "                \n",
    "                # Forward pass\n",
    "                output = model(data)\n",
    "                \n",
    "                # Calculate loss\n",
    "                loss = loss_fn(output, target)\n",
    "                \n",
    "                # Backward pass\n",
    "                loss.backward()\n",
    "                \n",
    "                # Update weights\n",
    "                optimizer.step()\n",
    "\n",
    "            # --- Validation sau mỗi epoch ---\n",
    "            model.eval() # Chuyển model sang chế độ đánh giá\n",
    "            val_loss = 0\n",
    "            correct = 0\n",
    "            with torch.no_grad():\n",
    "                for data, target in val_loader:\n",
    "                    data, target = data.to(device), target.to(device)\n",
    "                    output = model(data)\n",
    "                    val_loss += loss_fn(output, target).item()\n",
    "                    pred = output.argmax(dim=1, keepdim=True)\n",
    "                    correct += pred.eq(target.view_as(pred)).sum().item()\n",
    "\n",
    "            val_loss /= len(val_loader.dataset)\n",
    "            val_accuracy = 100. * correct / len(val_loader.dataset)\n",
    "            \n",
    "            print(f\"Epoch {epoch+1}/{EPOCHS} - Val Loss: {val_loss:.4f}, Val Accuracy: {val_accuracy:.2f}%\")\n",
    "            \n",
    "            # Log các chỉ số vào MLflow\n",
    "            mlflow.log_metric(\"validation_loss\", val_loss, step=epoch)\n",
    "            mlflow.log_metric(\"validation_accuracy\", val_accuracy, step=epoch)\n",
    "\n",
    "        # --- 6. Log model đã huấn luyện vào MLflow ---\n",
    "        print(\"Training hoàn tất. Đang lưu model vào MLflow...\")\n",
    "        mlflow.pytorch.log_model(model, \"model\")\n",
    "        print(\"Lưu model thành công!\")\n",
    "\n",
    "def main():\n",
    "    # Cài đặt MLflow nếu chưa có\n",
    "    try:\n",
    "        import mlflow\n",
    "    except ImportError:\n",
    "        print(\"Đang cài đặt mlflow...\")\n",
    "        import subprocess\n",
    "        import sys\n",
    "        subprocess.check_call([sys.executable, \"-m\", \"pip\", \"install\", \"mlflow\"])\n",
    "    \n",
    "    train()\n",
    "    print(\"\\nHoàn tất! Để xem kết quả, mở terminal và chạy lệnh: mlflow ui\")\n",
    "    print(\"Sau đó truy cập http://127.0.0.1:5000 trong trình duyệt.\")\n"
   ]
  }
 ],
 "metadata": {
  "kernelspec": {
   "display_name": "venv",
   "language": "python",
   "name": "python3"
  },
  "language_info": {
   "codemirror_mode": {
    "name": "ipython",
    "version": 3
   },
   "file_extension": ".py",
   "mimetype": "text/x-python",
   "name": "python",
   "nbconvert_exporter": "python",
   "pygments_lexer": "ipython3",
   "version": "3.10.11"
  }
 },
 "nbformat": 4,
 "nbformat_minor": 5
}
